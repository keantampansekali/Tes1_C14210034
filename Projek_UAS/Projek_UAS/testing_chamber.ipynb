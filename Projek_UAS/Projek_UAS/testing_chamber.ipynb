{
 "cells": [
  {
   "cell_type": "code",
   "execution_count": 3,
   "metadata": {},
   "outputs": [
    {
     "name": "stdout",
     "output_type": "stream",
     "text": [
      "TIDAK\n"
     ]
    }
   ],
   "source": [
    "val1, val2, val3 = (2,2,3)\n",
    "val4, val5, val6 = (1,2,3)\n",
    "\n",
    "id1 = 1\n",
    "id2 = 2\n",
    "\n",
    "pack1 = (val1, val2)\n",
    "pack2 = (val4, val5)\n",
    "pack3 = (id1, id2) \n",
    "\n",
    "if pack1 == pack2 == pack3:\n",
    "    print(\"JADI\")\n",
    "else:\n",
    "    print(\"TIDAK\")  "
   ]
  }
 ],
 "metadata": {
  "kernelspec": {
   "display_name": "Python 3",
   "language": "python",
   "name": "python3"
  },
  "language_info": {
   "codemirror_mode": {
    "name": "ipython",
    "version": 3
   },
   "file_extension": ".py",
   "mimetype": "text/x-python",
   "name": "python",
   "nbconvert_exporter": "python",
   "pygments_lexer": "ipython3",
   "version": "3.12.3"
  }
 },
 "nbformat": 4,
 "nbformat_minor": 2
}
